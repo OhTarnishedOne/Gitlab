{
 "cells": [
  {
   "cell_type": "markdown",
   "metadata": {},
   "source": [
    "#### Import Libraries and Dependencies"
   ]
  },
  {
   "cell_type": "code",
   "execution_count": 1,
   "metadata": {},
   "outputs": [],
   "source": [
    "import pandas as pd\n",
    "from pathlib import Path"
   ]
  },
  {
   "cell_type": "markdown",
   "metadata": {},
   "source": [
    "#### Read in Files "
   ]
  },
  {
   "cell_type": "code",
   "execution_count": 2,
   "metadata": {},
   "outputs": [
    {
     "data": {
      "text/html": [
       "<div>\n",
       "<style scoped>\n",
       "    .dataframe tbody tr th:only-of-type {\n",
       "        vertical-align: middle;\n",
       "    }\n",
       "\n",
       "    .dataframe tbody tr th {\n",
       "        vertical-align: top;\n",
       "    }\n",
       "\n",
       "    .dataframe thead th {\n",
       "        text-align: right;\n",
       "    }\n",
       "</style>\n",
       "<table border=\"1\" class=\"dataframe\">\n",
       "  <thead>\n",
       "    <tr style=\"text-align: right;\">\n",
       "      <th></th>\n",
       "      <th>Open</th>\n",
       "      <th>High</th>\n",
       "      <th>Low</th>\n",
       "      <th>Close</th>\n",
       "      <th>Adj Close</th>\n",
       "      <th>Volume</th>\n",
       "    </tr>\n",
       "    <tr>\n",
       "      <th>Date</th>\n",
       "      <th></th>\n",
       "      <th></th>\n",
       "      <th></th>\n",
       "      <th></th>\n",
       "      <th></th>\n",
       "      <th></th>\n",
       "    </tr>\n",
       "  </thead>\n",
       "  <tbody>\n",
       "    <tr>\n",
       "      <th>2018-09-04</th>\n",
       "      <td>2026.500000</td>\n",
       "      <td>2050.500000</td>\n",
       "      <td>2013.000000</td>\n",
       "      <td>2039.510010</td>\n",
       "      <td>2039.510010</td>\n",
       "      <td>5721100</td>\n",
       "    </tr>\n",
       "    <tr>\n",
       "      <th>2018-09-05</th>\n",
       "      <td>2038.109985</td>\n",
       "      <td>2040.380005</td>\n",
       "      <td>1989.890015</td>\n",
       "      <td>1994.819946</td>\n",
       "      <td>1994.819946</td>\n",
       "      <td>8220600</td>\n",
       "    </tr>\n",
       "    <tr>\n",
       "      <th>2018-09-06</th>\n",
       "      <td>2006.510010</td>\n",
       "      <td>2007.500000</td>\n",
       "      <td>1935.209961</td>\n",
       "      <td>1958.310059</td>\n",
       "      <td>1958.310059</td>\n",
       "      <td>7488700</td>\n",
       "    </tr>\n",
       "    <tr>\n",
       "      <th>2018-09-07</th>\n",
       "      <td>1938.709961</td>\n",
       "      <td>1975.199951</td>\n",
       "      <td>1937.349976</td>\n",
       "      <td>1952.069946</td>\n",
       "      <td>1952.069946</td>\n",
       "      <td>4892600</td>\n",
       "    </tr>\n",
       "    <tr>\n",
       "      <th>2018-09-10</th>\n",
       "      <td>1971.000000</td>\n",
       "      <td>1973.040039</td>\n",
       "      <td>1931.520020</td>\n",
       "      <td>1939.010010</td>\n",
       "      <td>1939.010010</td>\n",
       "      <td>4544800</td>\n",
       "    </tr>\n",
       "    <tr>\n",
       "      <th>...</th>\n",
       "      <td>...</td>\n",
       "      <td>...</td>\n",
       "      <td>...</td>\n",
       "      <td>...</td>\n",
       "      <td>...</td>\n",
       "      <td>...</td>\n",
       "    </tr>\n",
       "    <tr>\n",
       "      <th>2019-08-05</th>\n",
       "      <td>1770.219971</td>\n",
       "      <td>1788.670044</td>\n",
       "      <td>1748.780029</td>\n",
       "      <td>1765.130005</td>\n",
       "      <td>1765.130005</td>\n",
       "      <td>6058200</td>\n",
       "    </tr>\n",
       "    <tr>\n",
       "      <th>2019-08-06</th>\n",
       "      <td>1792.229980</td>\n",
       "      <td>1793.770020</td>\n",
       "      <td>1753.400024</td>\n",
       "      <td>1787.829956</td>\n",
       "      <td>1787.829956</td>\n",
       "      <td>5070300</td>\n",
       "    </tr>\n",
       "    <tr>\n",
       "      <th>2019-08-07</th>\n",
       "      <td>1773.989990</td>\n",
       "      <td>1798.930054</td>\n",
       "      <td>1757.000000</td>\n",
       "      <td>1793.400024</td>\n",
       "      <td>1793.400024</td>\n",
       "      <td>4526900</td>\n",
       "    </tr>\n",
       "    <tr>\n",
       "      <th>2019-08-08</th>\n",
       "      <td>1806.000000</td>\n",
       "      <td>1834.260010</td>\n",
       "      <td>1798.109985</td>\n",
       "      <td>1832.890015</td>\n",
       "      <td>1832.890015</td>\n",
       "      <td>3701200</td>\n",
       "    </tr>\n",
       "    <tr>\n",
       "      <th>2019-08-09</th>\n",
       "      <td>1828.949951</td>\n",
       "      <td>1831.089966</td>\n",
       "      <td>1802.219971</td>\n",
       "      <td>1807.579956</td>\n",
       "      <td>1807.579956</td>\n",
       "      <td>2829600</td>\n",
       "    </tr>\n",
       "  </tbody>\n",
       "</table>\n",
       "<p>235 rows × 6 columns</p>\n",
       "</div>"
      ],
      "text/plain": [
       "                   Open         High          Low        Close    Adj Close  \\\n",
       "Date                                                                          \n",
       "2018-09-04  2026.500000  2050.500000  2013.000000  2039.510010  2039.510010   \n",
       "2018-09-05  2038.109985  2040.380005  1989.890015  1994.819946  1994.819946   \n",
       "2018-09-06  2006.510010  2007.500000  1935.209961  1958.310059  1958.310059   \n",
       "2018-09-07  1938.709961  1975.199951  1937.349976  1952.069946  1952.069946   \n",
       "2018-09-10  1971.000000  1973.040039  1931.520020  1939.010010  1939.010010   \n",
       "...                 ...          ...          ...          ...          ...   \n",
       "2019-08-05  1770.219971  1788.670044  1748.780029  1765.130005  1765.130005   \n",
       "2019-08-06  1792.229980  1793.770020  1753.400024  1787.829956  1787.829956   \n",
       "2019-08-07  1773.989990  1798.930054  1757.000000  1793.400024  1793.400024   \n",
       "2019-08-08  1806.000000  1834.260010  1798.109985  1832.890015  1832.890015   \n",
       "2019-08-09  1828.949951  1831.089966  1802.219971  1807.579956  1807.579956   \n",
       "\n",
       "             Volume  \n",
       "Date                 \n",
       "2018-09-04  5721100  \n",
       "2018-09-05  8220600  \n",
       "2018-09-06  7488700  \n",
       "2018-09-07  4892600  \n",
       "2018-09-10  4544800  \n",
       "...             ...  \n",
       "2019-08-05  6058200  \n",
       "2019-08-06  5070300  \n",
       "2019-08-07  4526900  \n",
       "2019-08-08  3701200  \n",
       "2019-08-09  2829600  \n",
       "\n",
       "[235 rows x 6 columns]"
      ]
     },
     "execution_count": 2,
     "metadata": {},
     "output_type": "execute_result"
    }
   ],
   "source": [
    "# Import data\n",
    "amzn_path = Path('../Resources/amazon.csv')\n",
    "\n",
    "# Read in data and index by date\n",
    "df = pd.read_csv(\n",
    "    amzn_path, \n",
    "    index_col='Date',     \n",
    "    parse_dates=True, \n",
    "    infer_datetime_format=True\n",
    ")\n",
    "df"
   ]
  },
  {
   "cell_type": "markdown",
   "metadata": {},
   "source": [
    "#### Slice DateTimeIndex Data"
   ]
  },
  {
   "cell_type": "code",
   "execution_count": 3,
   "metadata": {},
   "outputs": [
    {
     "data": {
      "text/html": [
       "<div>\n",
       "<style scoped>\n",
       "    .dataframe tbody tr th:only-of-type {\n",
       "        vertical-align: middle;\n",
       "    }\n",
       "\n",
       "    .dataframe tbody tr th {\n",
       "        vertical-align: top;\n",
       "    }\n",
       "\n",
       "    .dataframe thead th {\n",
       "        text-align: right;\n",
       "    }\n",
       "</style>\n",
       "<table border=\"1\" class=\"dataframe\">\n",
       "  <thead>\n",
       "    <tr style=\"text-align: right;\">\n",
       "      <th></th>\n",
       "      <th>Open</th>\n",
       "      <th>High</th>\n",
       "      <th>Low</th>\n",
       "      <th>Close</th>\n",
       "      <th>Adj Close</th>\n",
       "      <th>Volume</th>\n",
       "    </tr>\n",
       "    <tr>\n",
       "      <th>Date</th>\n",
       "      <th></th>\n",
       "      <th></th>\n",
       "      <th></th>\n",
       "      <th></th>\n",
       "      <th></th>\n",
       "      <th></th>\n",
       "    </tr>\n",
       "  </thead>\n",
       "  <tbody>\n",
       "    <tr>\n",
       "      <th>2018-09-24</th>\n",
       "      <td>1903.790039</td>\n",
       "      <td>1936.880005</td>\n",
       "      <td>1865.000000</td>\n",
       "      <td>1934.359985</td>\n",
       "      <td>1934.359985</td>\n",
       "      <td>4213700</td>\n",
       "    </tr>\n",
       "    <tr>\n",
       "      <th>2018-09-25</th>\n",
       "      <td>1942.900024</td>\n",
       "      <td>1975.910034</td>\n",
       "      <td>1938.849976</td>\n",
       "      <td>1974.550049</td>\n",
       "      <td>1974.550049</td>\n",
       "      <td>4538400</td>\n",
       "    </tr>\n",
       "    <tr>\n",
       "      <th>2018-09-26</th>\n",
       "      <td>1968.500000</td>\n",
       "      <td>1995.250000</td>\n",
       "      <td>1961.520020</td>\n",
       "      <td>1974.849976</td>\n",
       "      <td>1974.849976</td>\n",
       "      <td>4313500</td>\n",
       "    </tr>\n",
       "    <tr>\n",
       "      <th>2018-09-27</th>\n",
       "      <td>1993.239990</td>\n",
       "      <td>2016.160034</td>\n",
       "      <td>1988.579956</td>\n",
       "      <td>2012.979980</td>\n",
       "      <td>2012.979980</td>\n",
       "      <td>4329400</td>\n",
       "    </tr>\n",
       "    <tr>\n",
       "      <th>2018-09-28</th>\n",
       "      <td>2004.410034</td>\n",
       "      <td>2026.520020</td>\n",
       "      <td>1996.459961</td>\n",
       "      <td>2003.000000</td>\n",
       "      <td>2003.000000</td>\n",
       "      <td>4085100</td>\n",
       "    </tr>\n",
       "  </tbody>\n",
       "</table>\n",
       "</div>"
      ],
      "text/plain": [
       "                   Open         High          Low        Close    Adj Close  \\\n",
       "Date                                                                          \n",
       "2018-09-24  1903.790039  1936.880005  1865.000000  1934.359985  1934.359985   \n",
       "2018-09-25  1942.900024  1975.910034  1938.849976  1974.550049  1974.550049   \n",
       "2018-09-26  1968.500000  1995.250000  1961.520020  1974.849976  1974.849976   \n",
       "2018-09-27  1993.239990  2016.160034  1988.579956  2012.979980  2012.979980   \n",
       "2018-09-28  2004.410034  2026.520020  1996.459961  2003.000000  2003.000000   \n",
       "\n",
       "             Volume  \n",
       "Date                 \n",
       "2018-09-24  4213700  \n",
       "2018-09-25  4538400  \n",
       "2018-09-26  4313500  \n",
       "2018-09-27  4329400  \n",
       "2018-09-28  4085100  "
      ]
     },
     "execution_count": 3,
     "metadata": {},
     "output_type": "execute_result"
    }
   ],
   "source": [
    "# Select all rows from September 2018\n",
    "sep_2018 = df.loc['2018-09']\n",
    "sep_2018.tail()"
   ]
  },
  {
   "cell_type": "markdown",
   "metadata": {},
   "source": [
    "#### Plot by Datetime Index"
   ]
  },
  {
   "cell_type": "code",
   "execution_count": 4,
   "metadata": {},
   "outputs": [
    {
     "data": {
      "text/plain": [
       "<AxesSubplot:xlabel='Date'>"
      ]
     },
     "execution_count": 4,
     "metadata": {},
     "output_type": "execute_result"
    },
    {
     "data": {
      "image/png": "[encoded data removed]",
      "text/plain": [
       "<Figure size 432x288 with 1 Axes>"
      ]
     },
     "metadata": {
      "needs_background": "light"
     },
     "output_type": "display_data"
    }
   ],
   "source": [
    "# Plot the closing prices using a line plot\n",
    "df.Close.plot()"
   ]
  },
  {
   "cell_type": "markdown",
   "metadata": {},
   "source": [
    "### Resample Time Series Data"
   ]
  },
  {
   "cell_type": "code",
   "execution_count": 15,
   "metadata": {},
   "outputs": [
    {
     "data": {
      "text/plain": [
       "Date\n",
       "2018-12-31    1705.809998\n",
       "2019-12-31    1819.260010\n",
       "Freq: A-DEC, Name: Close, dtype: float64"
      ]
     },
     "execution_count": 15,
     "metadata": {},
     "output_type": "execute_result"
    }
   ],
   "source": [
    "# Resample the closing prices to weekly and take the mean\n",
    "weekly = df['Close'].resample('Y').median()\n",
    "weekly.head()"
   ]
  },
  {
   "cell_type": "code",
   "execution_count": 12,
   "metadata": {},
   "outputs": [
    {
     "data": {
      "text/plain": [
       "<AxesSubplot:xlabel='Date'>"
      ]
     },
     "execution_count": 12,
     "metadata": {},
     "output_type": "execute_result"
    },
    {
     "data": {
      "image/png": "[encoded data removed]",
      "text/plain": [
       "<Figure size 432x288 with 1 Axes>"
      ]
     },
     "metadata": {
      "needs_background": "light"
     },
     "output_type": "display_data"
    }
   ],
   "source": [
    "# Plot the weekly average closing prices as a line chart\n",
    "weekly.plot()"
   ]
  },
  {
   "cell_type": "code",
   "execution_count": null,
   "metadata": {},
   "outputs": [],
   "source": []
  },
  {
   "cell_type": "code",
   "execution_count": null,
   "metadata": {},
   "outputs": [],
   "source": []
  }
 ],
 "metadata": {
  "kernelspec": {
   "display_name": "Python 3 (ipykernel)",
   "language": "python",
   "name": "python3"
  },
  "language_info": {
   "codemirror_mode": {
    "name": "ipython",
    "version": 3
   },
   "file_extension": ".py",
   "mimetype": "text/x-python",
   "name": "python",
   "nbconvert_exporter": "python",
   "pygments_lexer": "ipython3",
   "version": "3.9.12"
  }
 },
 "nbformat": 4,
 "nbformat_minor": 4
}
